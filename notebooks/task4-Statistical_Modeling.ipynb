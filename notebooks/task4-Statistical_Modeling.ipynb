{
 "cells": [
  {
   "cell_type": "markdown",
   "metadata": {},
   "source": [
    "###  Data Preparation"
   ]
  },
  {
   "cell_type": "code",
   "execution_count": 2,
   "metadata": {},
   "outputs": [
    {
     "name": "stdout",
     "output_type": "stream",
     "text": [
      "Missing values in each column:\n",
      "Series([], dtype: int64)\n",
      "Training set shape: (800, 7), Test set shape: (200, 7)\n"
     ]
    },
    {
     "name": "stderr",
     "output_type": "stream",
     "text": [
      "C:\\Users\\HP 830 G6\\AppData\\Local\\Temp\\ipykernel_21400\\679040988.py:14: FutureWarning: A value is trying to be set on a copy of a DataFrame or Series through chained assignment using an inplace method.\n",
      "The behavior will change in pandas 3.0. This inplace method will never work because the intermediate object on which we are setting values always behaves as a copy.\n",
      "\n",
      "For example, when doing 'df[col].method(value, inplace=True)', try using 'df.method({col: value}, inplace=True)' or df[col] = df[col].method(value) instead, to perform the operation inplace on the original object.\n",
      "\n",
      "\n",
      "  data['Total_Claim'].fillna(data['Total_Claim'].median(), inplace=True)\n"
     ]
    }
   ],
   "source": [
    "import pandas as pd\n",
    "from sklearn.model_selection import train_test_split\n",
    "\n",
    "# Load the data\n",
    "data = pd.read_csv('C:/Users/HP 830 G6/Desktop/KAIM/week-3/data/insurance_data.csv')\n",
    "\n",
    "# Step 1: Handling Missing Data\n",
    "# Check for missing values\n",
    "missing_values = data.isnull().sum()\n",
    "print(\"Missing values in each column:\")\n",
    "print(missing_values[missing_values > 0])\n",
    "\n",
    "# Example: Impute missing values in 'Total_Claim' with the median\n",
    "data['Total_Claim'].fillna(data['Total_Claim'].median(), inplace=True)\n",
    "\n",
    "# If there are other columns with missing values, handle them similarly\n",
    "# For example, if 'Premium' has missing values, you might do:\n",
    "# data['Premium'].fillna(data['Premium'].mean(), inplace=True)\n",
    "\n",
    "# Step 2: Feature Engineering\n",
    "# Create a new feature: Claim to Premium Ratio\n",
    "data['Claim_to_Premium_Ratio'] = data['Total_Claim'] / data['Premium']\n",
    "\n",
    "# Step 3: Encoding Categorical Data\n",
    "# One-hot encode the 'Province' and 'Gender' columns\n",
    "data = pd.get_dummies(data, columns=['Province', 'Gender'], drop_first=True)\n",
    "\n",
    "# Step 4: Train-Test Split\n",
    "# Define your features (X) and target variable (y)\n",
    "X = data.drop(['Total_Claim'], axis=1)  # Features\n",
    "y = data['Total_Claim']  # Target variable\n",
    "\n",
    "# Split the data (80% train, 20% test)\n",
    "X_train, X_test, y_train, y_test = train_test_split(X, y, test_size=0.2, random_state=42)\n",
    "\n",
    "# Display the shapes of the resulting datasets\n",
    "print(f\"Training set shape: {X_train.shape}, Test set shape: {X_test.shape}\")"
   ]
  },
  {
   "cell_type": "markdown",
   "metadata": {},
   "source": [
    "### Model Techniques"
   ]
  },
  {
   "cell_type": "markdown",
   "metadata": {},
   "source": [
    "### Implement Linear Regression"
   ]
  },
  {
   "cell_type": "code",
   "execution_count": 3,
   "metadata": {},
   "outputs": [
    {
     "name": "stdout",
     "output_type": "stream",
     "text": [
      "Linear Regression - MSE: 9813.230889367125, R^2: 0.9644298873915264\n"
     ]
    }
   ],
   "source": [
    "from sklearn.linear_model import LinearRegression\n",
    "from sklearn.metrics import mean_squared_error, r2_score\n",
    "\n",
    "# Initialize the Linear Regression model\n",
    "linear_model = LinearRegression()\n",
    "\n",
    "# Fit the model on the training data\n",
    "linear_model.fit(X_train, y_train)\n",
    "\n",
    "# Make predictions on the test set\n",
    "y_pred_linear = linear_model.predict(X_test)\n",
    "\n",
    "# Evaluate the model\n",
    "mse_linear = mean_squared_error(y_test, y_pred_linear)\n",
    "r2_linear = r2_score(y_test, y_pred_linear)\n",
    "\n",
    "print(f\"Linear Regression - MSE: {mse_linear}, R^2: {r2_linear}\")"
   ]
  },
  {
   "cell_type": "markdown",
   "metadata": {},
   "source": [
    "###  Implement Random Forests"
   ]
  },
  {
   "cell_type": "code",
   "execution_count": 4,
   "metadata": {},
   "outputs": [
    {
     "name": "stdout",
     "output_type": "stream",
     "text": [
      "Random Forest - MSE: 3517.049036441452, R^2: 0.9872517184517388\n"
     ]
    }
   ],
   "source": [
    "from sklearn.ensemble import RandomForestRegressor\n",
    "\n",
    "# Initialize the Random Forest model\n",
    "rf_model = RandomForestRegressor(n_estimators=100, random_state=42)\n",
    "\n",
    "# Fit the model on the training data\n",
    "rf_model.fit(X_train, y_train)\n",
    "\n",
    "# Make predictions on the test set\n",
    "y_pred_rf = rf_model.predict(X_test)\n",
    "\n",
    "# Evaluate the model\n",
    "mse_rf = mean_squared_error(y_test, y_pred_rf)\n",
    "r2_rf = r2_score(y_test, y_pred_rf)\n",
    "\n",
    "print(f\"Random Forest - MSE: {mse_rf}, R^2: {r2_rf}\")"
   ]
  },
  {
   "cell_type": "markdown",
   "metadata": {},
   "source": [
    "### Decision Tree Code"
   ]
  },
  {
   "cell_type": "code",
   "execution_count": 5,
   "metadata": {},
   "outputs": [
    {
     "name": "stdout",
     "output_type": "stream",
     "text": [
      "Decision Tree - MSE: 8097.067682068447, R^2: 0.9706504807135765\n"
     ]
    }
   ],
   "source": [
    "from sklearn.tree import DecisionTreeRegressor\n",
    "\n",
    "# Initialize the Decision Tree model\n",
    "dt_model = DecisionTreeRegressor(random_state=42)\n",
    "\n",
    "# Fit the model on the training data\n",
    "dt_model.fit(X_train, y_train)\n",
    "\n",
    "# Make predictions on the test set\n",
    "y_pred_dt = dt_model.predict(X_test)\n",
    "\n",
    "# Evaluate the model\n",
    "mse_dt = mean_squared_error(y_test, y_pred_dt)\n",
    "r2_dt = r2_score(y_test, y_pred_dt)\n",
    "\n",
    "print(f\"Decision Tree - MSE: {mse_dt}, R^2: {r2_dt}\")"
   ]
  },
  {
   "cell_type": "markdown",
   "metadata": {},
   "source": [
    "### Implement XGBoost"
   ]
  },
  {
   "cell_type": "code",
   "execution_count": null,
   "metadata": {},
   "outputs": [],
   "source": [
    "import xgboost as xgb\n",
    "from sklearn.metrics import mean_squared_error, r2_score\n",
    "\n",
    "# Initialize the XGBoost model\n",
    "xgb_model = xgb.XGBRegressor(objective='reg:squarederror', n_estimators=100, random_state=42)\n",
    "\n",
    "# Fit the model on the training data\n",
    "xgb_model.fit(X_train, y_train)\n",
    "\n",
    "# Make predictions on the test set\n",
    "y_pred_xgb = xgb_model.predict(X_test)\n",
    "\n",
    "# Evaluate the model\n",
    "mse_xgb = mean_squared_error(y_test, y_pred_xgb)\n",
    "r2_xgb = r2_score(y_test, y_pred_xgb)\n",
    "\n",
    "print(f\"XGBoost - MSE: {mse_xgb}, R^2: {r2_xgb}\")"
   ]
  },
  {
   "cell_type": "markdown",
   "metadata": {},
   "source": [
    "### Document Model Performance"
   ]
  },
  {
   "cell_type": "markdown",
   "metadata": {},
   "source": [
    "### Model Performance Summary\n",
    "\n",
    "### 1. Linear Regression\n",
    "- **Mean Squared Error (MSE)**: 9813.23\n",
    "- **R-squared (R²)**: 0.9644\n",
    "- **Interpretation**: The model explains approximately 96.44% of the variance in the target variable (Total Claims). The MSE indicates the average squared difference between the predicted and actual values.\n",
    "\n",
    "### 2. Random Forest\n",
    "- **Mean Squared Error (MSE)**: 3517.05\n",
    "- **R-squared (R²)**: 0.9873\n",
    "- **Interpretation**: The Random Forest model explains about 98.73% of the variance, which is significantly higher than the Linear Regression model. The lower MSE indicates better predictive performance.\n",
    "\n",
    "### 3. Decision Tree\n",
    "- **Mean Squared Error (MSE)**: 8097.07\n",
    "- **R-squared (R²)**: 0.9707\n",
    "- **Interpretation**: The Decision Tree model explains approximately 97.07% of the variance. While it performs well, its MSE is higher than that of the Random Forest model, indicating less accuracy in predictions.\n",
    "\n",
    "### Conclusion\n",
    "- **Comparison**: Among the three models, the Random Forest model demonstrates the best performance in terms of both MSE and R². It provides the lowest error and the highest explanatory power regarding the variance in Total Claims.\n"
   ]
  },
  {
   "cell_type": "markdown",
   "metadata": {},
   "source": [
    "### Visualization"
   ]
  },
  {
   "cell_type": "code",
   "execution_count": 8,
   "metadata": {},
   "outputs": [
    {
     "data": {
      "image/png": "[encoded data removed]",
      "text/plain": [
       "<Figure size 1000x600 with 1 Axes>"
      ]
     },
     "metadata": {},
     "output_type": "display_data"
    }
   ],
   "source": [
    "import matplotlib.pyplot as plt\n",
    "\n",
    "# Model names and their MSE values\n",
    "models = ['Linear Regression', 'Random Forest', 'Decision Tree']\n",
    "mse_values = [9813.23, 3517.05, 8097.07]\n",
    "\n",
    "# Create a bar chart\n",
    "plt.figure(figsize=(10, 6))\n",
    "plt.bar(models, mse_values, color=['blue', 'green', 'orange'])\n",
    "plt.title('Model Performance Comparison (MSE)')\n",
    "plt.ylabel('Mean Squared Error (MSE)')\n",
    "plt.xlabel('Models')\n",
    "plt.ylim(0, max(mse_values) + 2000)  # Set y-axis limit for better visualization\n",
    "plt.grid(axis='y', linestyle='--', alpha=0.7)  # Add horizontal grid lines for clarity\n",
    "plt.show()"
   ]
  }
 ],
 "metadata": {
  "kernelspec": {
   "display_name": "kb_env",
   "language": "python",
   "name": "python3"
  },
  "language_info": {
   "codemirror_mode": {
    "name": "ipython",
    "version": 3
   },
   "file_extension": ".py",
   "mimetype": "text/x-python",
   "name": "python",
   "nbconvert_exporter": "python",
   "pygments_lexer": "ipython3",
   "version": "3.13.0"
  }
 },
 "nbformat": 4,
 "nbformat_minor": 2
}
